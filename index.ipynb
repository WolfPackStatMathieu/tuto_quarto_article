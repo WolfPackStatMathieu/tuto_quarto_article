{
 "cells": [
  {
   "cell_type": "markdown",
   "metadata": {},
   "source": [
    "---\n",
    "title: Note intermédiaire rapport de stage\n",
    "author:\n",
    "  - name: Mathieu Thomassin\n",
    "    orcid: 0000-0002-0760-5497\n",
    "    corresponding: true\n",
    "    email: mathieu.thomassin@insee.fr\n",
    "    roles:\n",
    "      - Investigation\n",
    "      - Project administration\n",
    "      - Software\n",
    "      - Visualization\n",
    "keywords:\n",
    "  - machine learning, deep learning, cybersécurité\n",
    "  - Earthquakes\n",
    "abstract: |\n",
    "  L’Insee a renforcé récemment ses capacités opérationnelles en terme de cybersécurité via notamment la création de son SOC (Security Operation Center) en septembre 2023. Devant la quantité de données et leur diversité et face aux évolutions des techniques et tactiques des attaquants, les méthodes de détection de cyberattaques peuvent avoir des limites. L’application d’algorithmes de Machine Learning peut aider les analystes SOC à repérer des attaques. Se déroulant au sein de l’équipe SOC construite depuis peu, le stage va permettre d’appliquer des techniques de Machine Learning et de deep learning sur des jeux de données réelles, afin de participer à la détection d’incidents de sécurité.\n",
    "plain-language-summary: |\n",
    "  \n",
    "key-points:\n",
    "  - Un premier modèle de machine learning appliqué à une zone du SI de l'Insee non ouverte à l'extérieur n'a pas révélé de requête http malveillante\n",
    "  - L'intégration dans un workflow de type MLOps permet de tirer profit de bonnes pratiques.\n",
    "date: last-modified\n",
    "bibliography: references.bib\n",
    "citation:\n",
    "  container-title: SOC Insee\n",
    "number-sections: true\n",
    "---"
   ]
  },
  {
   "cell_type": "markdown",
   "metadata": {},
   "source": [
    "#### 1. Introduction\n",
    "   - **Présentation du Stagiaire et du maître de stage** :\n",
    "     - stagiaire: Mathieu THOMASSIN\n",
    "     - maître de stage: Michael ORSUCCI\n",
    "     - Titre du stage: Machine Learning appliqué à la cybersécurité\n",
    "### Introduction\n",
    "   - **Contexte et Objectifs du Stage** : L’Insee a renforcé récemment ses capacités opérationnelles en terme de cybersécurité via notamment la création de son SOC (Security Operation Center) en septembre 2023. Devant la quantité de données et leur diversité et face aux évolutions des techniques et tactiques des attaquants, les méthodes de détection de cyberattaques peuvent avoir des limites. L’application d’algorithmes de Machine Learning peut aider les analystes SOC à repérer des attaques. Se déroulant au sein de l’équipe SOC construite depuis peu, le stage va permettre d’appliquer des techniques de Machine Learning et de deep learning sur des jeux de données réelles, afin de participer à la détection d’incidents de sécurité. Il s'agit d'appliquer des techniques de détection de requêtes malveillantes arrivant dans le SI de l'Insee. Pour cela, un SIEM (Security information and event management), SPLUNK, a été déployé par les membres du SOC au début du stage. Ce système permet de constituer un puit de logs dans lequel puiser des données.\n",
    "\n",
    "   - **Présentation de l'entreprise** : Informations sur l'entreprise, son secteur d'activité, sa mission et sa vision.\n",
    "\n",
    "   - **Problématique et Enjeux** : <!---\n",
    " Définir la problématique abordée lors du stage et les enjeux associés.\n",
    "-->\n",
    "\n",
    "\n",
    "### 2. État de l’Art\n",
    "   - **Revue de Littérature** : Synthèse des travaux précédents, articles scientifiques, et technologies utilisées en lien avec la problématique du stage.\n",
    "\n",
    "Le SOC étant une nouvelle unité, il n'y a pas eu de travaux sur le sujet en amont. J'ai axé ma recherche bibliogrpahique autour des techniques de machine learning pour la cybersécurité, et autour des techniques de Deep Learning.\n",
    "\n",
    "* Livres:\n",
    "  + An introduction to statistical learning with applications in Python\n",
    "  + Deep Learning Patterns and Practices, Andrew Ferlitsch\n",
    "  + Deep Learning from Scratch - Building with Python from first principles, Seth Weidman\n",
    "  + Deep Learning_ A Visual Approach -- Andrew Glassner -- Illustrated, 2021\n",
    "  + Machine learning with Python cookbook, Kyle Gallatin & Chris Albon\n",
    "  + Deep Learning, Ian Goodfellow\n",
    "  + Machine Learning for cybersecurity, Emmanuel Tsukerman, (Chapter 6 Automatic Intrusion Detection)\n",
    "  + Machine Learning for computer and Cyber Security, Principles, Algorithms, and Practices, Brij B. Gupta\n",
    "\n",
    "* Articles:\n",
    "  + Isolation Forest, Liu, Ting, Zhou\n",
    "  + R. Fontugne, P. Borgnat, P. Abry, K. Fukuda. \"MAWILab: Combining diverse anomaly detectors for automated anomaly labeling and performance benchmarking\". ACM CoNEXT 2010. Philadelphia, PA. December 2010. \n",
    "\n",
    "\n",
    "\n",
    "\n",
    "   - **Technologies et Outils** : Présentation des technologies, outils, et bibliothèques couramment utilisés en data science et spécifiques au projet.\n",
    "\n",
    "Pour ce projet, j'utilise Python, et des notebook Jupyter, au sein d'environnement hébergés sur la plateforme Onyxia (qui met à dispositio un GPU) ou son équivalent en interne à l'Insee (qui n'en dispose pas). J'utilise les packages classiques de machine learning dont scikit-learn, et les outils associés: TfidfVectorizer, tensorflow, LogisticRegressionLSTM, XGBoost CNN, KFold GridSearchCV.\n",
    "J'ai également commencé à utiliser l'outil MLFlow, qui est une plateforme permettant de gére le cycle de vie d'un projet de machine learning de bout en bout, notamment les étapes d'expérimentation et d'amélioration continue.\n",
    "\n",
    "\n",
    "![L'approche MLOps](images/mlops.png)\n",
    "\n",
    "\n",
    "### 3. Méthodologie\n",
    "   - **Collecte de Données** : Sources des données, méthodes de collecte, et description des jeux de données utilisés.\n",
    "\n",
    "Les données se classent en deux catégories: les données sur lesquelles les modèles sont entraînés, et les données issues de Splunk.\n",
    "Pour le moment, j'ai testé différents algorithmes sur un unique jeu de données que je nomme [\"Good-Bad queries\"]<https://github.com/faizann24/Fwaf-Machine-Learning-driven-Web-Application-Firewall.git>\n",
    "\n",
    "   - **Préparation des Données** : Techniques de nettoyage, transformation, et enrichissement des données.\n",
    "   - **Exploration des Données** : Analyse exploratoire, visualisations, et insights préliminaires obtenus des données.\n",
    "   - **Modélisation** : Description des modèles de machine learning ou autres techniques analytiques utilisés. Justification des choix de modèles.\n",
    "   - **Évaluation des Modèles** : Métriques et méthodes utilisées pour évaluer la performance des modèles.\n",
    "\n",
    "### 4. Développement et Implémentation\n",
    "   - **Architecture du Système** : Schéma et description de l'architecture du système ou de la solution développée.\n",
    "   - **Pipeline de Données** : Description du pipeline de traitement des données, de l'ingestion à l'analyse.\n",
    "   - **Déploiement** : Processus de déploiement des modèles ou solutions, environnements utilisés (local, cloud, etc.), et outils de déploiement.\n",
    "\n",
    "### 5. Résultats et Discussions\n",
    "   - **Résultats Obtenus** : Présentation des résultats des analyses et des performances des modèles.\n",
    "   - **Interprétation des Résultats** : Analyse et interprétation des résultats. Comparaison avec les attentes initiales et les benchmarks.\n",
    "   - **Limites et Contraintes** : Discussion sur les limites rencontrées, les défis techniques, et les contraintes liées aux données ou aux outils.\n",
    "\n",
    "### 6. Conclusion et Perspectives\n",
    "   - **Synthèse du Travail** : Résumé des principales réalisations et des contributions du stage.\n",
    "   - **Perspectives d’Avenir** : Suggestions pour des travaux futurs, améliorations possibles, et nouvelles pistes de recherche ou de développement.\n",
    "\n",
    "### 7. Références\n",
    "   - **Bibliographie** : Liste des ouvrages, articles, et ressources consultés pour la réalisation du projet.\n",
    "   - **Outils et Logiciels** : Références des outils et logiciels utilisés.\n",
    "\n",
    "### 8. Annexes\n",
    "   - **Code Source** : Extraits de code pertinents ou lien vers un dépôt de code.\n",
    "   - **Documents Supplémentaires** : Diagrammes, schémas, documents techniques, etc.\n",
    "\n",
    "Ce plan vous fournira une structure claire et organisée pour votre note intermédiaire, couvrant tous les aspects essentiels de votre stage en data science. Chaque section peut être adaptée en fonction des spécificités de votre projet et des exigences de votre programme de master."
   ]
  },
  {
   "cell_type": "markdown",
   "metadata": {
    "tags": []
   },
   "source": [
    "## Introduction\n"
   ]
  },
  {
   "cell_type": "markdown",
   "metadata": {},
   "source": [
    "Based on data up to and including 1971, eruptions on La Palma happen every 79.8 years on average."
   ]
  },
  {
   "cell_type": "markdown",
   "metadata": {},
   "source": [
    "## Data & Methods {#sec-data-methods}"
   ]
  },
  {
   "cell_type": "markdown",
   "metadata": {},
   "source": [
    "## Conclusion"
   ]
  },
  {
   "cell_type": "markdown",
   "metadata": {},
   "source": [
    "## References {.unnumbered}\n",
    "\n",
    ":::{#refs}\n",
    "\n",
    ":::"
   ]
  }
 ],
 "metadata": {
  "kernelspec": {
   "display_name": "Python 3 (ipykernel)",
   "language": "python",
   "name": "python3"
  },
  "language_info": {
   "codemirror_mode": {
    "name": "ipython",
    "version": 3
   },
   "file_extension": ".py",
   "mimetype": "text/x-python",
   "name": "python",
   "nbconvert_exporter": "python",
   "pygments_lexer": "ipython3",
   "version": "3.12.2"
  }
 },
 "nbformat": 4,
 "nbformat_minor": 4
}
