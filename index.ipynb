{
 "cells": [
  {
   "cell_type": "markdown",
   "metadata": {},
   "source": [
    "---\n",
    "title: Note intermédiaire rapport de stage\n",
    "author:\n",
    "  - name: Mathieu Thomassin\n",
    "    orcid: 0000-0002-0760-5497\n",
    "    corresponding: true\n",
    "    email: mathieu.thomassin@inse.fr\n",
    "    roles:\n",
    "      - Investigation\n",
    "      - Project administration\n",
    "      - Software\n",
    "      - Visualization\n",
    "keywords:\n",
    "  - machine learning, deep learning, cybersécurité\n",
    "  - Earthquakes\n",
    "abstract: |\n",
    "  L’Insee a renforcé récemment ses capacités opérationnelles en terme de cybersécurité via notamment la création de son SOC (Security Operation Center) en septembre 2023. Devant la quantité de données et leur diversité et face aux évolutions des techniques et tactiques des attaquants, les méthodes de détection de cyberattaques peuvent avoir des limites. L’application d’algorithmes de Machine Learning peut aider les analystes SOC à repérer des attaques. Se déroulant au sein de l’équipe SOC construite depuis peu, le stage va permettre d’appliquer des techniques de Machine Learning et de deep learning sur des jeux de données réelles, afin de participer à la détection d’incidents de sécurité.\n",
    "plain-language-summary: |\n",
    "  \n",
    "key-points:\n",
    "  - Un premier modèle de machine learning appliqué à une zone du SI de l'Insee non ouverte à l'extérieur n'a pas révélé de requête http malveillante\n",
    "  - L'intégration dans un workflow de type MLOps permet de tirer profit de bonnes pratiques.\n",
    "date: last-modified\n",
    "bibliography: references.bib\n",
    "citation:\n",
    "  container-title: SOC Insee\n",
    "number-sections: true\n",
    "---"
   ]
  },
  {
   "cell_type": "markdown",
   "metadata": {},
   "source": [
    "Voici un plan détaillé pour une note intermédiaire pour un rapport de stage en master de data science. Ce plan couvre les grandes parties à inclure pour structurer efficacement votre rapport et fournir une vue d'ensemble claire de votre travail.\n",
    "\n",
    "### 1. Introduction\n",
    "   - **Contexte et Objectifs du Stage** : Décrire l'organisation où le stage a été réalisé, le contexte général du projet, et les objectifs principaux du stage.\n",
    "   - **Présentation de l'entreprise** : Informations sur l'entreprise, son secteur d'activité, sa mission et sa vision.\n",
    "   - **Problématique et Enjeux** : Définir la problématique abordée lors du stage et les enjeux associés.\n",
    "\n",
    "### 2. État de l’Art\n",
    "   - **Revue de Littérature** : Synthèse des travaux précédents, articles scientifiques, et technologies utilisées en lien avec la problématique du stage.\n",
    "   - **Technologies et Outils** : Présentation des technologies, outils, et bibliothèques couramment utilisés en data science et spécifiques au projet.\n",
    "\n",
    "### 3. Méthodologie\n",
    "   - **Collecte de Données** : Sources des données, méthodes de collecte, et description des jeux de données utilisés.\n",
    "   - **Préparation des Données** : Techniques de nettoyage, transformation, et enrichissement des données.\n",
    "   - **Exploration des Données** : Analyse exploratoire, visualisations, et insights préliminaires obtenus des données.\n",
    "   - **Modélisation** : Description des modèles de machine learning ou autres techniques analytiques utilisés. Justification des choix de modèles.\n",
    "   - **Évaluation des Modèles** : Métriques et méthodes utilisées pour évaluer la performance des modèles.\n",
    "\n",
    "### 4. Développement et Implémentation\n",
    "   - **Architecture du Système** : Schéma et description de l'architecture du système ou de la solution développée.\n",
    "   - **Pipeline de Données** : Description du pipeline de traitement des données, de l'ingestion à l'analyse.\n",
    "   - **Déploiement** : Processus de déploiement des modèles ou solutions, environnements utilisés (local, cloud, etc.), et outils de déploiement.\n",
    "\n",
    "### 5. Résultats et Discussions\n",
    "   - **Résultats Obtenus** : Présentation des résultats des analyses et des performances des modèles.\n",
    "   - **Interprétation des Résultats** : Analyse et interprétation des résultats. Comparaison avec les attentes initiales et les benchmarks.\n",
    "   - **Limites et Contraintes** : Discussion sur les limites rencontrées, les défis techniques, et les contraintes liées aux données ou aux outils.\n",
    "\n",
    "### 6. Conclusion et Perspectives\n",
    "   - **Synthèse du Travail** : Résumé des principales réalisations et des contributions du stage.\n",
    "   - **Perspectives d’Avenir** : Suggestions pour des travaux futurs, améliorations possibles, et nouvelles pistes de recherche ou de développement.\n",
    "\n",
    "### 7. Références\n",
    "   - **Bibliographie** : Liste des ouvrages, articles, et ressources consultés pour la réalisation du projet.\n",
    "   - **Outils et Logiciels** : Références des outils et logiciels utilisés.\n",
    "\n",
    "### 8. Annexes\n",
    "   - **Code Source** : Extraits de code pertinents ou lien vers un dépôt de code.\n",
    "   - **Documents Supplémentaires** : Diagrammes, schémas, documents techniques, etc.\n",
    "\n",
    "Ce plan vous fournira une structure claire et organisée pour votre note intermédiaire, couvrant tous les aspects essentiels de votre stage en data science. Chaque section peut être adaptée en fonction des spécificités de votre projet et des exigences de votre programme de master."
   ]
  },
  {
   "cell_type": "markdown",
   "metadata": {
    "tags": []
   },
   "source": [
    "## Introduction\n"
   ]
  },
  {
   "cell_type": "markdown",
   "metadata": {},
   "source": [
    "Based on data up to and including 1971, eruptions on La Palma happen every 79.8 years on average."
   ]
  },
  {
   "cell_type": "markdown",
   "metadata": {},
   "source": [
    "## Data & Methods {#sec-data-methods}"
   ]
  },
  {
   "cell_type": "markdown",
   "metadata": {},
   "source": [
    "## Conclusion"
   ]
  },
  {
   "cell_type": "markdown",
   "metadata": {},
   "source": [
    "## References {.unnumbered}\n",
    "\n",
    ":::{#refs}\n",
    "\n",
    ":::"
   ]
  }
 ],
 "metadata": {
  "kernelspec": {
   "display_name": "Python 3 (ipykernel)",
   "language": "python",
   "name": "python3"
  },
  "language_info": {
   "codemirror_mode": {
    "name": "ipython",
    "version": 3
   },
   "file_extension": ".py",
   "mimetype": "text/x-python",
   "name": "python",
   "nbconvert_exporter": "python",
   "pygments_lexer": "ipython3",
   "version": "3.12.2"
  }
 },
 "nbformat": 4,
 "nbformat_minor": 4
}
